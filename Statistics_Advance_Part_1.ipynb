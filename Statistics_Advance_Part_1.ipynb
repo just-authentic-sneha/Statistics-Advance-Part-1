{
  "nbformat": 4,
  "nbformat_minor": 0,
  "metadata": {
    "colab": {
      "provenance": []
    },
    "kernelspec": {
      "name": "python3",
      "display_name": "Python 3"
    },
    "language_info": {
      "name": "python"
    }
  },
  "cells": [
    {
      "cell_type": "markdown",
      "source": [
        "# Statistics Advance Part 1"
      ],
      "metadata": {
        "id": "1PAHEsdMuqkp"
      }
    },
    {
      "cell_type": "markdown",
      "source": [
        "\n",
        "# 1. What is a random variable in probability theory?\n",
        "- A random variable is a variable whose possible values are numerical outcomes of a random phenomenon. It assigns a numerical value to each outcome in a sample space.\n",
        "---\n",
        "\n",
        "# 2. What are the types of random variables?\n",
        "Random variables are classified into:\n",
        "- Discrete Random Variables (countable outcomes)\n",
        "- Continuous Random Variables (uncountable, real-valued outcomes)\n",
        "---\n",
        "\n",
        "# 3. What is the difference between discrete and continuous distributions?\n",
        "- Discrete distributions represent variables that can take specific, separate values.\n",
        "- Continuous distributions represent variables that can take any value within a range.\n",
        "---\n",
        "\n",
        "# 4. What are probability distribution functions (PDF)?\n",
        "- A Probability Distribution Function describes the likelihood of a random variable taking on certain values. For discrete variables, it is called a Probability Mass Function (PMF), and for continuous variables, it is a true PDF.\n",
        "---\n",
        "\n",
        "# 5. How do cumulative distribution functions (CDF) differ from probability distribution functions (PDF)?\n",
        "- A CDF gives the probability that a random variable is less than or equal to a certain value, while a PDF (for continuous variables) gives the relative likelihood of a value occurring at a point.\n",
        "---\n",
        "\n",
        "# 6. What is a discrete uniform distribution?\n",
        "- A discrete uniform distribution is one in which each possible outcome has an equal probability. For example, rolling a fair die.\n",
        "---\n",
        "\n",
        "# 7. What are the key properties of a Bernoulli distribution?\n",
        "- Only two outcomes: success (1) and failure (0)\n",
        "- A single trial\n",
        "- Probability of success = p, failure = 1 - p\n",
        "---\n",
        "\n",
        "# 8. What is the binomial distribution, and how is it used in probability?\n",
        "- The binomial distribution models the number of successes in a fixed number of independent Bernoulli trials with the same probability of success. It’s used in yes/no experiments.\n",
        "---\n",
        "\n",
        "# 9. What is the Poisson distribution and where is it applied?\n",
        "- The Poisson distribution models the number of events occurring in a fixed interval of time or space when these events happen independently and at a constant average rate. It’s used in modeling rare events like phone calls at a call center.\n",
        "---\n",
        "# 10. What is a continuous uniform distribution?\n",
        "- A continuous uniform distribution has constant probability across a continuous range. Each value in the interval has an equal likelihood.\n",
        "---\n",
        "# 11. What are the characteristics of a normal distribution?\n",
        "- Symmetrical bell-shaped curve\n",
        "- Mean = Median = Mode\n",
        "- Defined by its mean (μ) and standard deviation (σ)\n",
        "- Most values lie within ±3σ from the mean\n",
        "---\n",
        "# 12. What is the standard normal distribution, and why is it important?\n",
        "- The standard normal distribution is a normal distribution with a mean of 0 and a standard deviation of 1. It is used for standardizing data and calculating probabilities using Z-scores.\n",
        "---\n",
        "# 13. What is the Central Limit Theorem (CLT), and why is it critical in statistics?\n",
        "- The CLT states that the sampling distribution of the sample mean will approach a normal distribution as the sample size becomes large, regardless of the population's distribution. It underpins many inferential statistics techniques.\n",
        "---\n",
        "# 14. How does the Central Limit Theorem relate to the normal distribution?\n",
        "- The CLT explains why normal distributions are so common — it shows that means of large samples from any distribution tend to be normally distributed.\n",
        "---\n",
        "# 15. What is the application of Z statistics in hypothesis testing?\n",
        "- Z statistics help determine whether to reject the null hypothesis in hypothesis testing, especially when population variance is known and the sample size is large.\n",
        "---\n",
        "# 16. How do you calculate a Z-score, and what does it represent?\n",
        "- Z = (X - μ) / σ  \n",
        "- It represents how many standard deviations a data point X is from the population mean μ.\n",
        "---\n",
        "# 17. What are point estimates and interval estimates in statistics?\n",
        "- Point Estimate: A single value estimate of a parameter (e.g., sample mean).\n",
        "- Interval Estimate: A range of values (confidence interval) likely to contain the parameter.\n",
        "---\n",
        "# 18. What is the significance of confidence intervals in statistical analysis?\n",
        "- Confidence intervals provide a range of plausible values for a population parameter and indicate the reliability of an estimate.\n",
        "---\n",
        "# 19. What is the relationship between a Z-score and a confidence interval?\n",
        "- Z-scores define the bounds of a confidence interval. For example, a 95% confidence interval corresponds to approximately ±1.96 Z-scores from the mean.\n",
        "---\n",
        "# 20. How are Z-scores used to compare different distributions?\n",
        "- Z-scores standardize values from different distributions, allowing direct comparison by showing how far each value is from its respective mean.\n",
        "---\n",
        "# 21. What are the assumptions for applying the Central Limit Theorem?\n",
        "- The sample size is sufficiently large (usually n > 30)\n",
        "- The samples are independent\n",
        "- The population has finite variance\n",
        "---\n",
        "# 22. What is the concept of expected value in a probability distribution?\n",
        "- Expected value is the long-run average value of a random variable, calculated as the weighted average of all possible values.\n",
        "\n",
        "---\n",
        "\n",
        "# 23. How does a probability distribution relate to the expected outcome of a random variable?\n",
        "- The expected outcome is derived by summing the products of each value of the random variable and its corresponding probability from the distribution.\n",
        "\n",
        "---"
      ],
      "metadata": {
        "id": "NN5xWRjAusUe"
      }
    }
  ]
}